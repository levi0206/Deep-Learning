{
 "cells": [
  {
   "attachments": {},
   "cell_type": "markdown",
   "metadata": {},
   "source": [
    "# Seq2Seq"
   ]
  },
  {
   "attachments": {},
   "cell_type": "markdown",
   "metadata": {},
   "source": [
    "## References\n",
    "- [1] Sequence to Sequence Learning with Neural Networks, https://arxiv.org/abs/1409.3215\n",
    "- [2] NLP From Scratch: Translation with a Sequence to Sequence Network and Attention, https://pytorch.org/tutorials/intermediate/seq2seq_translation_tutorial.html"
   ]
  }
 ],
 "metadata": {
  "language_info": {
   "name": "python"
  },
  "orig_nbformat": 4
 },
 "nbformat": 4,
 "nbformat_minor": 2
}

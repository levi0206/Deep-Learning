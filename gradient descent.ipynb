{
 "cells": [
  {
   "attachments": {},
   "cell_type": "markdown",
   "metadata": {},
   "source": [
    "# Gradient Descent Implementation\n",
    "We will display the details of the implementation of gradient descents with PyTorch. For the mechanism of `torch.autograd`, please refer to `autograd.ipynb`.\n",
    "\n",
    "Consider a simple regression model in which \n",
    "- `x`: input\n",
    "- `y`: target\n",
    "- `w`: weight \n",
    "- `b`: bias"
   ]
  },
  {
   "attachments": {},
   "cell_type": "markdown",
   "metadata": {},
   "source": [
    "## 1-dimension model"
   ]
  },
  {
   "cell_type": "code",
   "execution_count": 1,
   "metadata": {},
   "outputs": [],
   "source": [
    "import torch\n",
    "\n",
    "x = torch.tensor(0.5)\n",
    "y = torch.tensor(3.0) # target, or label\n",
    "\n",
    "# Optimize the weight and bias -> requires_grad=True\n",
    "w = torch.tensor(1.0, requires_grad=True)\n",
    "b = torch.tensor(0.3,requires_grad=True)"
   ]
  },
  {
   "cell_type": "code",
   "execution_count": 2,
   "metadata": {},
   "outputs": [
    {
     "data": {
      "text/plain": [
       "tensor(0.8000, grad_fn=<AddBackward0>)"
      ]
     },
     "execution_count": 2,
     "metadata": {},
     "output_type": "execute_result"
    }
   ],
   "source": [
    "# Model\n",
    "def model(x,w,b):\n",
    "    return w * x + b\n",
    "y_pred = model(x,w,b)\n",
    "y_pred"
   ]
  },
  {
   "attachments": {},
   "cell_type": "markdown",
   "metadata": {},
   "source": [
    "## Set seed"
   ]
  },
  {
   "cell_type": "code",
   "execution_count": 3,
   "metadata": {},
   "outputs": [],
   "source": [
    "def same_seed(seed):\n",
    "    torch.manual_seed(seed)\n",
    "same_seed(2023)"
   ]
  },
  {
   "attachments": {},
   "cell_type": "markdown",
   "metadata": {},
   "source": [
    "## Loss function"
   ]
  },
  {
   "cell_type": "code",
   "execution_count": 4,
   "metadata": {},
   "outputs": [],
   "source": [
    "def loss(y_pred):\n",
    "    return (y_pred-y)**2"
   ]
  },
  {
   "cell_type": "code",
   "execution_count": 5,
   "metadata": {},
   "outputs": [
    {
     "name": "stdout",
     "output_type": "stream",
     "text": [
      "tensor(4.8400, grad_fn=<PowBackward0>)\n"
     ]
    }
   ],
   "source": [
    "L = loss(y_pred)\n",
    "print(L)"
   ]
  },
  {
   "attachments": {},
   "cell_type": "markdown",
   "metadata": {},
   "source": [
    "### .backward()\n",
    "Denote the loss function by $L$. Now we use `.backward()` to calculate the gradient $\\frac{\\partial}{\\partial w}L$ and $\\frac{\\partial}{\\partial b}L$."
   ]
  },
  {
   "cell_type": "code",
   "execution_count": 6,
   "metadata": {},
   "outputs": [
    {
     "name": "stdout",
     "output_type": "stream",
     "text": [
      "gradient with respect to w: tensor(-2.2000)\n",
      "gradient with respect to b: tensor(-4.4000)\n"
     ]
    }
   ],
   "source": [
    "L.backward()\n",
    "print('gradient with respect to w:',w.grad)\n",
    "print('gradient with respect to b:',b.grad)"
   ]
  },
  {
   "cell_type": "code",
   "execution_count": 7,
   "metadata": {},
   "outputs": [],
   "source": [
    "# Create a list to record the loss\n",
    "loss_history = []\n",
    "loss_history.append(L)\n",
    "# hyperparameter\n",
    "accuracy = 0.5\n",
    "learning_rate = 0.01"
   ]
  },
  {
   "attachments": {},
   "cell_type": "markdown",
   "metadata": {},
   "source": [
    "Note that you have to use `torch.no_grad()` to disable the gradient calculation."
   ]
  },
  {
   "cell_type": "code",
   "execution_count": 8,
   "metadata": {},
   "outputs": [
    {
     "name": "stdout",
     "output_type": "stream",
     "text": [
      "w after one update: tensor(1.0220, requires_grad=True)\n",
      "b after one update: tensor(0.3440, requires_grad=True)\n"
     ]
    }
   ],
   "source": [
    "with torch.no_grad():\n",
    "    w -= learning_rate * w.grad\n",
    "    b -= learning_rate * b.grad\n",
    "    print('w after one update:',w)\n",
    "    print('b after one update:',b)"
   ]
  },
  {
   "attachments": {},
   "cell_type": "markdown",
   "metadata": {},
   "source": [
    "### .grad.zero_()\n",
    "Before your next update, use `w.grad.zero_()` and `b.grad.zero_()` to clear the gradients."
   ]
  },
  {
   "cell_type": "code",
   "execution_count": 9,
   "metadata": {},
   "outputs": [
    {
     "name": "stdout",
     "output_type": "stream",
     "text": [
      "gradients of w after .zero_(): tensor(0.)\n",
      "gradients of b after .zero_(): tensor(0.)\n"
     ]
    }
   ],
   "source": [
    "w.grad.zero_() \n",
    "b.grad.zero_()\n",
    "print('gradients of w after .zero_():',w.grad)\n",
    "print('gradients of b after .zero_():',b.grad)"
   ]
  },
  {
   "cell_type": "code",
   "execution_count": 10,
   "metadata": {},
   "outputs": [
    {
     "name": "stdout",
     "output_type": "stream",
     "text": [
      "Parameters after one update\n",
      "w: tensor(1.0220, requires_grad=True)\n",
      "b: tensor(0.3440, requires_grad=True)\n"
     ]
    }
   ],
   "source": [
    "print('Parameters after one update')\n",
    "print('w:',w)\n",
    "print('b:',b)"
   ]
  },
  {
   "attachments": {},
   "cell_type": "markdown",
   "metadata": {},
   "source": [
    "### Training loop\n",
    "Together with for loop, we can optimize our model up to any acuracy."
   ]
  },
  {
   "cell_type": "code",
   "execution_count": 11,
   "metadata": {},
   "outputs": [
    {
     "name": "stdout",
     "output_type": "stream",
     "text": [
      "Parameters after one update\n",
      "w: tensor(1.0434, requires_grad=True)\n",
      "b: tensor(0.3869, requires_grad=True)\n",
      "Parameters after one update\n",
      "w: tensor(1.0644, requires_grad=True)\n",
      "b: tensor(0.4287, requires_grad=True)\n",
      "Parameters after one update\n",
      "w: tensor(1.0848, requires_grad=True)\n",
      "b: tensor(0.4695, requires_grad=True)\n",
      "Parameters after one update\n",
      "w: tensor(1.1046, requires_grad=True)\n",
      "b: tensor(0.5093, requires_grad=True)\n",
      "Parameters after one update\n",
      "w: tensor(1.1240, requires_grad=True)\n",
      "b: tensor(0.5480, requires_grad=True)\n",
      "Parameters after one update\n",
      "w: tensor(1.1429, requires_grad=True)\n",
      "b: tensor(0.5858, requires_grad=True)\n",
      "Parameters after one update\n",
      "w: tensor(1.1613, requires_grad=True)\n",
      "b: tensor(0.6227, requires_grad=True)\n",
      "Parameters after one update\n",
      "w: tensor(1.1793, requires_grad=True)\n",
      "b: tensor(0.6586, requires_grad=True)\n",
      "Parameters after one update\n",
      "w: tensor(1.1968, requires_grad=True)\n",
      "b: tensor(0.6937, requires_grad=True)\n",
      "Parameters after one update\n",
      "w: tensor(1.2139, requires_grad=True)\n",
      "b: tensor(0.7278, requires_grad=True)\n",
      "Parameters after one update\n",
      "w: tensor(1.2306, requires_grad=True)\n",
      "b: tensor(0.7611, requires_grad=True)\n",
      "Parameters after one update\n",
      "w: tensor(1.2468, requires_grad=True)\n",
      "b: tensor(0.7936, requires_grad=True)\n",
      "Parameters after one update\n",
      "w: tensor(1.2626, requires_grad=True)\n",
      "b: tensor(0.8253, requires_grad=True)\n",
      "Parameters after one update\n",
      "w: tensor(1.2781, requires_grad=True)\n",
      "b: tensor(0.8561, requires_grad=True)\n",
      "Parameters after one update\n",
      "w: tensor(1.2931, requires_grad=True)\n",
      "b: tensor(0.8862, requires_grad=True)\n",
      "Parameters after one update\n",
      "w: tensor(1.3078, requires_grad=True)\n",
      "b: tensor(0.9156, requires_grad=True)\n",
      "Parameters after one update\n",
      "w: tensor(1.3221, requires_grad=True)\n",
      "b: tensor(0.9442, requires_grad=True)\n",
      "Parameters after one update\n",
      "w: tensor(1.3360, requires_grad=True)\n",
      "b: tensor(0.9721, requires_grad=True)\n",
      "Parameters after one update\n",
      "w: tensor(1.3496, requires_grad=True)\n",
      "b: tensor(0.9993, requires_grad=True)\n",
      "Parameters after one update\n",
      "w: tensor(1.3629, requires_grad=True)\n",
      "b: tensor(1.0258, requires_grad=True)\n",
      "Parameters after one update\n",
      "w: tensor(1.3758, requires_grad=True)\n",
      "b: tensor(1.0516, requires_grad=True)\n",
      "Parameters after one update\n",
      "w: tensor(1.3884, requires_grad=True)\n",
      "b: tensor(1.0769, requires_grad=True)\n",
      "Parameters after one update\n",
      "w: tensor(1.4007, requires_grad=True)\n",
      "b: tensor(1.1014, requires_grad=True)\n",
      "Parameters after one update\n",
      "w: tensor(1.4127, requires_grad=True)\n",
      "b: tensor(1.1254, requires_grad=True)\n",
      "Parameters after one update\n",
      "w: tensor(1.4244, requires_grad=True)\n",
      "b: tensor(1.1488, requires_grad=True)\n",
      "Parameters after one update\n",
      "w: tensor(1.4358, requires_grad=True)\n",
      "b: tensor(1.1715, requires_grad=True)\n",
      "Parameters after one update\n",
      "w: tensor(1.4469, requires_grad=True)\n",
      "b: tensor(1.1938, requires_grad=True)\n",
      "Parameters after one update\n",
      "w: tensor(1.4577, requires_grad=True)\n",
      "b: tensor(1.2154, requires_grad=True)\n",
      "Parameters after one update\n",
      "w: tensor(1.4683, requires_grad=True)\n",
      "b: tensor(1.2365, requires_grad=True)\n",
      "Parameters after one update\n",
      "w: tensor(1.4786, requires_grad=True)\n",
      "b: tensor(1.2571, requires_grad=True)\n",
      "Parameters after one update\n",
      "w: tensor(1.4886, requires_grad=True)\n",
      "b: tensor(1.2772, requires_grad=True)\n",
      "Parameters after one update\n",
      "w: tensor(1.4984, requires_grad=True)\n",
      "b: tensor(1.2968, requires_grad=True)\n",
      "Parameters after one update\n",
      "w: tensor(1.5079, requires_grad=True)\n",
      "b: tensor(1.3158, requires_grad=True)\n",
      "Parameters after one update\n",
      "w: tensor(1.5172, requires_grad=True)\n",
      "b: tensor(1.3344, requires_grad=True)\n",
      "Parameters after one update\n",
      "w: tensor(1.5263, requires_grad=True)\n",
      "b: tensor(1.3526, requires_grad=True)\n",
      "Parameters after one update\n",
      "w: tensor(1.5351, requires_grad=True)\n",
      "b: tensor(1.3703, requires_grad=True)\n",
      "Parameters after one update\n",
      "w: tensor(1.5438, requires_grad=True)\n",
      "b: tensor(1.3875, requires_grad=True)\n",
      "Parameters after one update\n",
      "w: tensor(1.5522, requires_grad=True)\n",
      "b: tensor(1.4043, requires_grad=True)\n",
      "Parameters after one update\n",
      "w: tensor(1.5604, requires_grad=True)\n",
      "b: tensor(1.4207, requires_grad=True)\n",
      "Parameters after one update\n",
      "w: tensor(1.5683, requires_grad=True)\n",
      "b: tensor(1.4367, requires_grad=True)\n",
      "Parameters after one update\n",
      "w: tensor(1.5761, requires_grad=True)\n",
      "b: tensor(1.4523, requires_grad=True)\n",
      "Parameters after one update\n",
      "w: tensor(1.5837, requires_grad=True)\n",
      "b: tensor(1.4675, requires_grad=True)\n",
      "Parameters after one update\n",
      "w: tensor(1.5911, requires_grad=True)\n",
      "b: tensor(1.4823, requires_grad=True)\n",
      "Parameters after one update\n",
      "w: tensor(1.5984, requires_grad=True)\n",
      "b: tensor(1.4967, requires_grad=True)\n",
      "Parameters after one update\n",
      "w: tensor(1.6054, requires_grad=True)\n",
      "b: tensor(1.5108, requires_grad=True)\n"
     ]
    }
   ],
   "source": [
    "while L >= accuracy:\n",
    "    y_pred = model(x,w,b)\n",
    "    L = loss(y_pred)\n",
    "    loss_history.append(L)\n",
    "    \n",
    "    L.backward()\n",
    "\n",
    "    with torch.no_grad():\n",
    "        w -= learning_rate * w.grad\n",
    "        b -= learning_rate * b.grad\n",
    "    w.grad.zero_() \n",
    "    b.grad.zero_()\n",
    "    print('Parameters after one update')\n",
    "    print('w:',w)\n",
    "    print('b:',b)"
   ]
  },
  {
   "cell_type": "code",
   "execution_count": 12,
   "metadata": {},
   "outputs": [
    {
     "name": "stdout",
     "output_type": "stream",
     "text": [
      "tensor(0.4957, grad_fn=<PowBackward0>)\n"
     ]
    }
   ],
   "source": [
    "print(loss_history[-1])"
   ]
  },
  {
   "attachments": {},
   "cell_type": "markdown",
   "metadata": {},
   "source": [
    "## multi-dimension model \n",
    "Now we consider vector-valued input `X`, label `Y` and bias `B` with weight matrix `W`."
   ]
  },
  {
   "cell_type": "code",
   "execution_count": 13,
   "metadata": {},
   "outputs": [],
   "source": [
    "X = torch.tensor((0.2,0.5,0.1,3))\n",
    "Y = torch.tensor((1,2,3,4))\n",
    "W = torch.rand((4,4),requires_grad=True)\n",
    "B = torch.rand(4,requires_grad=True)"
   ]
  },
  {
   "cell_type": "code",
   "execution_count": 14,
   "metadata": {},
   "outputs": [
    {
     "data": {
      "text/plain": [
       "tensor([0.2000, 0.5000, 0.1000, 3.0000])"
      ]
     },
     "execution_count": 14,
     "metadata": {},
     "output_type": "execute_result"
    }
   ],
   "source": [
    "X"
   ]
  },
  {
   "cell_type": "code",
   "execution_count": 15,
   "metadata": {},
   "outputs": [
    {
     "data": {
      "text/plain": [
       "tensor([[0.4290, 0.7201, 0.9481, 0.4797],\n",
       "        [0.5414, 0.9906, 0.4086, 0.2183],\n",
       "        [0.1834, 0.2852, 0.7813, 0.1048],\n",
       "        [0.6550, 0.8375, 0.1823, 0.5239]], requires_grad=True)"
      ]
     },
     "execution_count": 15,
     "metadata": {},
     "output_type": "execute_result"
    }
   ],
   "source": [
    "W"
   ]
  },
  {
   "cell_type": "code",
   "execution_count": 16,
   "metadata": {},
   "outputs": [
    {
     "data": {
      "text/plain": [
       "tensor([0.2432, 0.9644, 0.5034, 0.0320], requires_grad=True)"
      ]
     },
     "execution_count": 16,
     "metadata": {},
     "output_type": "execute_result"
    }
   ],
   "source": [
    "B"
   ]
  },
  {
   "attachments": {},
   "cell_type": "markdown",
   "metadata": {},
   "source": [
    "### Model"
   ]
  },
  {
   "cell_type": "code",
   "execution_count": 17,
   "metadata": {},
   "outputs": [
    {
     "data": {
      "text/plain": [
       "tensor([2.2228, 2.2638, 1.0752, 2.1717], grad_fn=<AddBackward0>)"
      ]
     },
     "execution_count": 17,
     "metadata": {},
     "output_type": "execute_result"
    }
   ],
   "source": [
    "def model(X,W,B):\n",
    "    return torch.matmul(W,X)+B\n",
    "Y_pred = model(X,W,B)\n",
    "Y_pred"
   ]
  },
  {
   "attachments": {},
   "cell_type": "markdown",
   "metadata": {},
   "source": [
    "### Loss and float tensor\n",
    "We use `MSELoss` to be our loss. Note that the input of `nn.MSELoss()` should be float tensor."
   ]
  },
  {
   "cell_type": "code",
   "execution_count": 18,
   "metadata": {},
   "outputs": [
    {
     "name": "stdout",
     "output_type": "stream",
     "text": [
      "tensor(2.1531, grad_fn=<MseLossBackward0>)\n"
     ]
    }
   ],
   "source": [
    "loss = torch.nn.MSELoss()\n",
    "Loss_history = []\n",
    "\n",
    "Y_pred = Y_pred.to(torch.float32)\n",
    "Y = Y.to(torch.float32)\n",
    "\n",
    "L = loss(Y_pred,Y)\n",
    "Loss_history.append(L)\n",
    "\n",
    "print(L)"
   ]
  },
  {
   "attachments": {},
   "cell_type": "markdown",
   "metadata": {},
   "source": [
    "### .backward()"
   ]
  },
  {
   "cell_type": "code",
   "execution_count": 19,
   "metadata": {},
   "outputs": [
    {
     "name": "stdout",
     "output_type": "stream",
     "text": [
      "gradient with respect to W:\n",
      "tensor([[ 0.1223,  0.3057,  0.0611,  1.8342],\n",
      "        [ 0.0264,  0.0660,  0.0132,  0.3957],\n",
      "        [-0.1925, -0.4812, -0.0962, -2.8872],\n",
      "        [-0.1828, -0.4571, -0.0914, -2.7425]])\n",
      "gradient with respect to B:\n",
      "tensor([ 0.6114,  0.1319, -0.9624, -0.9142])\n"
     ]
    }
   ],
   "source": [
    "L.backward()\n",
    "print('gradient with respect to W:')\n",
    "print(W.grad)\n",
    "print('gradient with respect to B:')\n",
    "print(B.grad)"
   ]
  },
  {
   "attachments": {},
   "cell_type": "markdown",
   "metadata": {},
   "source": [
    "### .grad.zero_()"
   ]
  },
  {
   "cell_type": "code",
   "execution_count": 20,
   "metadata": {},
   "outputs": [
    {
     "name": "stdout",
     "output_type": "stream",
     "text": [
      "gradients of W after .zero_():\n",
      "tensor([[0., 0., 0., 0.],\n",
      "        [0., 0., 0., 0.],\n",
      "        [0., 0., 0., 0.],\n",
      "        [0., 0., 0., 0.]])\n",
      "gradients of B after .zero_():\n",
      "tensor([0., 0., 0., 0.])\n"
     ]
    }
   ],
   "source": [
    "W.grad.zero_() \n",
    "B.grad.zero_()\n",
    "print('gradients of W after .zero_():')\n",
    "print(W.grad)\n",
    "print('gradients of B after .zero_():')\n",
    "print(B.grad)"
   ]
  },
  {
   "attachments": {},
   "cell_type": "markdown",
   "metadata": {},
   "source": [
    "### Training loop"
   ]
  },
  {
   "cell_type": "code",
   "execution_count": 21,
   "metadata": {},
   "outputs": [
    {
     "name": "stdout",
     "output_type": "stream",
     "text": [
      "Parameters after one update\n",
      "W matrix\n",
      "tensor([[0.4278, 0.7170, 0.9475, 0.4613],\n",
      "        [0.5411, 0.9899, 0.4085, 0.2144],\n",
      "        [0.1853, 0.2900, 0.7822, 0.1337],\n",
      "        [0.6568, 0.8421, 0.1832, 0.5513]], requires_grad=True)\n",
      "B\n",
      "tensor([0.2370, 0.9631, 0.5130, 0.0412], requires_grad=True)\n",
      "Parameters after one update\n",
      "W matrix\n",
      "tensor([[0.4266, 0.7141, 0.9470, 0.4439],\n",
      "        [0.5409, 0.9893, 0.4083, 0.2106],\n",
      "        [0.1871, 0.2946, 0.7831, 0.1611],\n",
      "        [0.6585, 0.8464, 0.1841, 0.5773]], requires_grad=True)\n",
      "B\n",
      "tensor([0.2312, 0.9619, 0.5222, 0.0499], requires_grad=True)\n",
      "Parameters after one update\n",
      "W matrix\n",
      "tensor([[0.4255, 0.7114, 0.9464, 0.4274],\n",
      "        [0.5406, 0.9887, 0.4082, 0.2070],\n",
      "        [0.1888, 0.2989, 0.7840, 0.1870],\n",
      "        [0.6602, 0.8505, 0.1849, 0.6020]], requires_grad=True)\n",
      "B\n",
      "tensor([0.2257, 0.9607, 0.5308, 0.0581], requires_grad=True)\n",
      "Parameters after one update\n",
      "W matrix\n",
      "tensor([[0.4245, 0.7087, 0.9459, 0.4118],\n",
      "        [0.5404, 0.9881, 0.4081, 0.2037],\n",
      "        [0.1905, 0.3030, 0.7848, 0.2117],\n",
      "        [0.6617, 0.8544, 0.1857, 0.6254]], requires_grad=True)\n",
      "B\n",
      "tensor([0.2205, 0.9596, 0.5390, 0.0659], requires_grad=True)\n",
      "Parameters after one update\n",
      "W matrix\n",
      "tensor([[0.4235, 0.7063, 0.9454, 0.3969],\n",
      "        [0.5402, 0.9876, 0.4080, 0.2005],\n",
      "        [0.1920, 0.3069, 0.7856, 0.2350],\n",
      "        [0.6632, 0.8581, 0.1864, 0.6476]], requires_grad=True)\n",
      "B\n",
      "tensor([0.2156, 0.9585, 0.5468, 0.0733], requires_grad=True)\n",
      "Parameters after one update\n",
      "W matrix\n",
      "tensor([[0.4226, 0.7039, 0.9449, 0.3828],\n",
      "        [0.5400, 0.9871, 0.4079, 0.1974],\n",
      "        [0.1935, 0.3106, 0.7864, 0.2572],\n",
      "        [0.6646, 0.8616, 0.1872, 0.6687]], requires_grad=True)\n",
      "B\n",
      "tensor([0.2109, 0.9575, 0.5542, 0.0803], requires_grad=True)\n",
      "Parameters after one update\n",
      "W matrix\n",
      "tensor([[0.4217, 0.7017, 0.9445, 0.3695],\n",
      "        [0.5398, 0.9866, 0.4078, 0.1945],\n",
      "        [0.1949, 0.3141, 0.7871, 0.2782],\n",
      "        [0.6659, 0.8650, 0.1878, 0.6886]], requires_grad=True)\n",
      "B\n",
      "tensor([0.2064, 0.9565, 0.5612, 0.0870], requires_grad=True)\n",
      "Parameters after one update\n",
      "W matrix\n",
      "tensor([[0.4208, 0.6996, 0.9441, 0.3568],\n",
      "        [0.5396, 0.9862, 0.4077, 0.1918],\n",
      "        [0.1962, 0.3174, 0.7877, 0.2982],\n",
      "        [0.6672, 0.8681, 0.1884, 0.7076]], requires_grad=True)\n",
      "B\n",
      "tensor([0.2022, 0.9556, 0.5679, 0.0933], requires_grad=True)\n",
      "Parameters after one update\n",
      "W matrix\n",
      "tensor([[0.4200, 0.6976, 0.9437, 0.3448],\n",
      "        [0.5394, 0.9857, 0.4076, 0.1892],\n",
      "        [0.1975, 0.3206, 0.7883, 0.3171],\n",
      "        [0.6684, 0.8711, 0.1890, 0.7255]], requires_grad=True)\n",
      "B\n",
      "tensor([0.1982, 0.9547, 0.5742, 0.0993], requires_grad=True)\n",
      "Parameters after one update\n",
      "W matrix\n",
      "tensor([[0.4193, 0.6957, 0.9433, 0.3334],\n",
      "        [0.5393, 0.9853, 0.4075, 0.1868],\n",
      "        [0.1987, 0.3236, 0.7889, 0.3350],\n",
      "        [0.6695, 0.8740, 0.1896, 0.7426]], requires_grad=True)\n",
      "B\n",
      "tensor([0.1944, 0.9539, 0.5802, 0.1049], requires_grad=True)\n",
      "Parameters after one update\n",
      "W matrix\n",
      "tensor([[0.4185, 0.6939, 0.9429, 0.3226],\n",
      "        [0.5391, 0.9849, 0.4075, 0.1844],\n",
      "        [0.1998, 0.3264, 0.7895, 0.3520],\n",
      "        [0.6706, 0.8767, 0.1902, 0.7587]], requires_grad=True)\n",
      "B\n",
      "tensor([0.1908, 0.9531, 0.5858, 0.1103], requires_grad=True)\n",
      "Parameters after one update\n",
      "W matrix\n",
      "tensor([[0.4179, 0.6922, 0.9426, 0.3123],\n",
      "        [0.5390, 0.9846, 0.4074, 0.1822],\n",
      "        [0.2009, 0.3291, 0.7901, 0.3682],\n",
      "        [0.6716, 0.8792, 0.1907, 0.7741]], requires_grad=True)\n",
      "B\n",
      "tensor([0.1874, 0.9524, 0.5912, 0.1154], requires_grad=True)\n",
      "Parameters after one update\n",
      "W matrix\n",
      "tensor([[0.4172, 0.6906, 0.9422, 0.3026],\n",
      "        [0.5388, 0.9842, 0.4073, 0.1801],\n",
      "        [0.2019, 0.3316, 0.7906, 0.3835],\n",
      "        [0.6726, 0.8816, 0.1911, 0.7886]], requires_grad=True)\n",
      "B\n",
      "tensor([0.1841, 0.9517, 0.5963, 0.1203], requires_grad=True)\n",
      "Parameters after one update\n",
      "W matrix\n",
      "tensor([[0.4166, 0.6890, 0.9419, 0.2934],\n",
      "        [0.5387, 0.9839, 0.4073, 0.1781],\n",
      "        [0.2029, 0.3341, 0.7910, 0.3980],\n",
      "        [0.6735, 0.8839, 0.1916, 0.8024]], requires_grad=True)\n",
      "B\n",
      "tensor([0.1811, 0.9510, 0.6012, 0.1249], requires_grad=True)\n",
      "Parameters after one update\n",
      "W matrix\n",
      "tensor([[0.4160, 0.6876, 0.9416, 0.2846],\n",
      "        [0.5386, 0.9836, 0.4072, 0.1762],\n",
      "        [0.2038, 0.3363, 0.7915, 0.4118],\n",
      "        [0.6744, 0.8861, 0.1920, 0.8155]], requires_grad=True)\n",
      "B\n",
      "tensor([0.1782, 0.9504, 0.6057, 0.1292], requires_grad=True)\n"
     ]
    }
   ],
   "source": [
    "while L >= accuracy:\n",
    "    Y_pred = model(X,W,B)\n",
    "    Y_pred = Y_pred.to(torch.float32)\n",
    "    L = loss(Y_pred,Y)\n",
    "    Loss_history.append(L)\n",
    "    \n",
    "    L.backward()\n",
    "\n",
    "    with torch.no_grad():\n",
    "        W -= learning_rate * W.grad\n",
    "        B -= learning_rate * B.grad\n",
    "    W.grad.zero_() \n",
    "    B.grad.zero_()\n",
    "    print('Parameters after one update')\n",
    "    print('W matrix')\n",
    "    print(W)\n",
    "    print('B')\n",
    "    print(B)"
   ]
  },
  {
   "cell_type": "code",
   "execution_count": 22,
   "metadata": {},
   "outputs": [
    {
     "name": "stdout",
     "output_type": "stream",
     "text": [
      "tensor(0.4957, grad_fn=<PowBackward0>)\n"
     ]
    }
   ],
   "source": [
    "print(loss_history[-1])"
   ]
  },
  {
   "attachments": {},
   "cell_type": "markdown",
   "metadata": {},
   "source": [
    "## Neural network\n",
    "Now we implement the gradient descent on a neural network. We use a simple MLP model to conduct a regression task. "
   ]
  },
  {
   "attachments": {},
   "cell_type": "markdown",
   "metadata": {},
   "source": [
    "We use `sklearn.datasets.make_regression` to randomly generate a regression problem. `X` is a $100\\times 3$ matrix where each row is a sample. `y` is a $100\\times 1$ lable matrix."
   ]
  },
  {
   "cell_type": "code",
   "execution_count": 23,
   "metadata": {},
   "outputs": [],
   "source": [
    "from sklearn.datasets import make_regression\n",
    "X, y = make_regression(n_samples=100, n_features=3, noise=1, random_state=42)"
   ]
  },
  {
   "attachments": {},
   "cell_type": "markdown",
   "metadata": {},
   "source": [
    "Again, we need to cast `X`, `y` to float Tensor."
   ]
  },
  {
   "cell_type": "code",
   "execution_count": 24,
   "metadata": {},
   "outputs": [
    {
     "data": {
      "text/plain": [
       "torch.float64"
      ]
     },
     "execution_count": 24,
     "metadata": {},
     "output_type": "execute_result"
    }
   ],
   "source": [
    "X = torch.tensor(X)\n",
    "X.dtype"
   ]
  },
  {
   "cell_type": "code",
   "execution_count": 25,
   "metadata": {},
   "outputs": [
    {
     "data": {
      "text/plain": [
       "torch.float32"
      ]
     },
     "execution_count": 25,
     "metadata": {},
     "output_type": "execute_result"
    }
   ],
   "source": [
    "X = X.float()\n",
    "X.dtype"
   ]
  },
  {
   "cell_type": "code",
   "execution_count": 26,
   "metadata": {},
   "outputs": [
    {
     "data": {
      "text/plain": [
       "torch.float32"
      ]
     },
     "execution_count": 26,
     "metadata": {},
     "output_type": "execute_result"
    }
   ],
   "source": [
    "y = torch.tensor(y).float()\n",
    "y.dtype"
   ]
  },
  {
   "cell_type": "code",
   "execution_count": 27,
   "metadata": {},
   "outputs": [],
   "source": [
    "config = {\n",
    "    'in_features':3,\n",
    "    'lr':0.01,\n",
    "    'n_epoch':100\n",
    "}"
   ]
  },
  {
   "attachments": {},
   "cell_type": "markdown",
   "metadata": {},
   "source": [
    "### Model"
   ]
  },
  {
   "cell_type": "code",
   "execution_count": 28,
   "metadata": {},
   "outputs": [],
   "source": [
    "import torch.nn as nn\n",
    "class MLP(nn.Module):\n",
    "    def __init__(self):\n",
    "        super(MLP,self).__init__()\n",
    "        self.layers = nn.Sequential(\n",
    "            nn.Linear(config['in_features'],2),\n",
    "            nn.ReLU(),\n",
    "            nn.Linear(2,1)\n",
    "        )\n",
    "    def forward(self,x):\n",
    "        x = self.layers(x)\n",
    "        return x\n",
    "\n",
    "model = MLP()"
   ]
  },
  {
   "attachments": {},
   "cell_type": "markdown",
   "metadata": {},
   "source": [
    "### Training loop\n",
    "For neural networks, we can use `optimizer` to update our model parameters. It is worth noting that we no longer set the condition `while loss >= accuracy` when optimizing our neural network since we cannot expect how long it takes our model to reduce the loss or even we don't know whether the convergence of neural network is guaranteed, given model hyperparatmeter.\n",
    "\n",
    "With optimizer, we don't we to update parameters manually. All operation is packed in `optimizer.step()`."
   ]
  },
  {
   "cell_type": "code",
   "execution_count": 29,
   "metadata": {},
   "outputs": [],
   "source": [
    "criterion = nn.MSELoss()\n",
    "optimizer = torch.optim.SGD(model.parameters(), lr=config['lr']) "
   ]
  },
  {
   "attachments": {},
   "cell_type": "markdown",
   "metadata": {},
   "source": [
    "Also note that we have to enter training mode before our training loop."
   ]
  },
  {
   "cell_type": "code",
   "execution_count": 30,
   "metadata": {},
   "outputs": [
    {
     "data": {
      "text/plain": [
       "MLP(\n",
       "  (layers): Sequential(\n",
       "    (0): Linear(in_features=3, out_features=2, bias=True)\n",
       "    (1): ReLU()\n",
       "    (2): Linear(in_features=2, out_features=1, bias=True)\n",
       "  )\n",
       ")"
      ]
     },
     "execution_count": 30,
     "metadata": {},
     "output_type": "execute_result"
    }
   ],
   "source": [
    "model.train()"
   ]
  },
  {
   "cell_type": "code",
   "execution_count": 33,
   "metadata": {},
   "outputs": [
    {
     "name": "stdout",
     "output_type": "stream",
     "text": [
      "epoch: 10, loss = 6868.1567\n",
      "epoch: 20, loss = 6868.1465\n",
      "epoch: 30, loss = 6868.1382\n",
      "epoch: 40, loss = 6868.1318\n",
      "epoch: 50, loss = 6868.1274\n",
      "epoch: 60, loss = 6868.1226\n",
      "epoch: 70, loss = 6868.1182\n",
      "epoch: 80, loss = 6868.1138\n",
      "epoch: 90, loss = 6868.1104\n",
      "epoch: 100, loss = 6868.1074\n"
     ]
    },
    {
     "name": "stderr",
     "output_type": "stream",
     "text": [
      "/Users/lerong/miniconda3/envs/general_env/lib/python3.11/site-packages/torch/nn/modules/loss.py:535: UserWarning: Using a target size (torch.Size([100])) that is different to the input size (torch.Size([100, 1])). This will likely lead to incorrect results due to broadcasting. Please ensure they have the same size.\n",
      "  return F.mse_loss(input, target, reduction=self.reduction)\n"
     ]
    }
   ],
   "source": [
    "for epoch in range(config['n_epoch']):\n",
    "    y_pred = model(X)\n",
    "    L = criterion(y_pred,y)\n",
    "\n",
    "    # calculate partial derivatives\n",
    "    L.backward()\n",
    "    optimizer.step()\n",
    "\n",
    "    # zero gradients\n",
    "    optimizer.zero_grad()\n",
    "\n",
    "    if (epoch+1) % 10 == 0:\n",
    "        print(f'epoch: {epoch+1}, loss = {L.item():.4f}')"
   ]
  },
  {
   "cell_type": "code",
   "execution_count": 34,
   "metadata": {},
   "outputs": [
    {
     "data": {
      "image/png": "[encoded data removed]",
      "text/plain": [
       "<Figure size 640x480 with 1 Axes>"
      ]
     },
     "metadata": {},
     "output_type": "display_data"
    }
   ],
   "source": [
    "import matplotlib.pyplot as plt\n",
    "predicted = model(X).detach().numpy()\n",
    "\n",
    "plt.plot(X, y, 'ro')\n",
    "plt.plot(X, predicted, 'b')\n",
    "plt.show()"
   ]
  },
  {
   "attachments": {},
   "cell_type": "markdown",
   "metadata": {},
   "source": [
    "This notebook contains the implementation tips and details of gradient descent at which I was confused at the first glance. Hope this helps."
   ]
  }
 ],
 "metadata": {
  "kernelspec": {
   "display_name": "general_env",
   "language": "python",
   "name": "python3"
  },
  "language_info": {
   "codemirror_mode": {
    "name": "ipython",
    "version": 3
   },
   "file_extension": ".py",
   "mimetype": "text/x-python",
   "name": "python",
   "nbconvert_exporter": "python",
   "pygments_lexer": "ipython3",
   "version": "3.11.4"
  },
  "orig_nbformat": 4
 },
 "nbformat": 4,
 "nbformat_minor": 2
}

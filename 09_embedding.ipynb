{
 "cells": [
  {
   "attachments": {},
   "cell_type": "markdown",
   "metadata": {},
   "source": [
    "## Embedding and Clustering Implementation with MNIST"
   ]
  },
  {
   "cell_type": "code",
   "execution_count": 74,
   "metadata": {},
   "outputs": [],
   "source": [
    "import random\n",
    "import math\n",
    "import itertools\n",
    "import numpy as np\n",
    "from IPython import display\n",
    "import matplotlib.pyplot as plt\n",
    "from sklearn.cluster import KMeans\n",
    "from sklearn.decomposition import PCA\n",
    "from sklearn.manifold import TSNE\n",
    "\n",
    "import torch\n",
    "import torch.nn as nn\n",
    "import torch.optim as optim\n",
    "import torchvision.transforms as transforms\n",
    "from torch.utils import data\n",
    "from torchvision import datasets"
   ]
  },
  {
   "cell_type": "code",
   "execution_count": 75,
   "metadata": {},
   "outputs": [],
   "source": [
    "def same_seed(seed):\n",
    "    torch.backends.cudnn.deterministic = True\n",
    "    torch.backends.cudnn.benchmark = False\n",
    "    torch.manual_seed(seed)\n",
    "    torch.cuda.manual_seed_all(seed)\n",
    "    random.seed(seed)\n",
    "    np.random.seed(seed)\n",
    "\n",
    "device = 'cpu'\n",
    "same_seed(2023)"
   ]
  },
  {
   "attachments": {},
   "cell_type": "markdown",
   "metadata": {},
   "source": [
    "### Hyperparameter\n",
    "`reduce_dim=2` means we want to embed our data to $\\mathbb{R}^2$."
   ]
  },
  {
   "cell_type": "code",
   "execution_count": 76,
   "metadata": {},
   "outputs": [],
   "source": [
    "n_epoch = 15\n",
    "batch_size = 32\n",
    "latent_dim = 32\n",
    "reduce_dim = 2\n",
    "n_iter = 1000\n",
    "lr = 0.0005\n",
    "model_save = 'model.pth'"
   ]
  },
  {
   "cell_type": "code",
   "execution_count": 77,
   "metadata": {},
   "outputs": [],
   "source": [
    "transform = transforms.Compose([\n",
    "    transforms.ToTensor(),\n",
    "     transforms.Normalize((0.1307,), (0.3081,)),\n",
    "])"
   ]
  },
  {
   "cell_type": "code",
   "execution_count": 78,
   "metadata": {},
   "outputs": [],
   "source": [
    "train_set = datasets.MNIST(root='./', train=True,download=True, transform=transform)\n",
    "                                \n",
    "test_set = datasets.MNIST(root='./', train=False,download=True, transform=transform)\n",
    "                                       \n",
    "train_size = int(0.9 * len(train_set))\n",
    "val_size = len(train_set) - train_size\n",
    "\n",
    "train_set, val_set = torch.utils.data.random_split(dataset=train_set, lengths=[train_size, val_size])\n",
    "\n",
    "train_loader = data.DataLoader(train_set, batch_size=batch_size,shuffle=True)\n",
    "valid_loader = data.DataLoader(dataset=val_set,batch_size=batch_size,shuffle=True)                               \n",
    "test_loader = data.DataLoader(test_set, batch_size=batch_size,shuffle=False)  "
   ]
  },
  {
   "attachments": {},
   "cell_type": "markdown",
   "metadata": {},
   "source": [
    "### Autoencoder\n",
    "The output of the model is the laten vectors and the reconstructed images."
   ]
  },
  {
   "cell_type": "code",
   "execution_count": 79,
   "metadata": {},
   "outputs": [],
   "source": [
    "class autoencoder(nn.Module):\n",
    "    def __init__(self,latent_dim):\n",
    "        super(autoencoder, self).__init__()\n",
    "        self.encoder = nn.Sequential(\n",
    "            nn.Conv2d(1,16,3,1,1),  \n",
    "            nn.MaxPool2d(2,2), #[14,14]\n",
    "            nn.Conv2d(16,latent_dim,3,1,1), \n",
    "            nn.MaxPool2d(2,2), #[7,7]\n",
    "        )\n",
    "        self.decoder = nn.Sequential(\n",
    "            nn.ConvTranspose2d(latent_dim, 16, 2, stride=2), # [14,14]\n",
    "            nn.ReLU(),\n",
    "            nn.ConvTranspose2d(16, 1, 2, stride=2), # [28,28]\n",
    "            nn.Sigmoid(),\n",
    "        )\n",
    "    def forward(self,x):\n",
    "        latent = self.encoder(x)\n",
    "        reconstruct = self.decoder(latent)\n",
    "\n",
    "        return latent,reconstruct"
   ]
  },
  {
   "cell_type": "code",
   "execution_count": 80,
   "metadata": {},
   "outputs": [],
   "source": [
    "model = autoencoder(latent_dim=latent_dim)\n",
    "\n",
    "criterion = nn.MSELoss()\n",
    "optimizer = optim.Adam(model.parameters(),lr=lr,weight_decay=1e-5)"
   ]
  },
  {
   "attachments": {},
   "cell_type": "markdown",
   "metadata": {},
   "source": [
    "### Training and Validation"
   ]
  },
  {
   "cell_type": "code",
   "execution_count": 81,
   "metadata": {},
   "outputs": [],
   "source": [
    "def Train(train, val, model, device, n_epoch, batch, model_save):\n",
    "    best_loss = 100\n",
    "    for epoch in range(n_epoch):\n",
    "        total_loss = 0\n",
    "\n",
    "        # Training\n",
    "        model.train()\n",
    "        train_loss = []\n",
    "        idx = 0\n",
    "        for image, _ in train:\n",
    "            image = image.to(device, dtype=torch.float)\n",
    "            _, reconsturct = model(image)\n",
    "            loss = criterion(reconsturct, image)\n",
    "\n",
    "            optimizer.zero_grad()\n",
    "            loss.backward()\n",
    "            optimizer.step()\n",
    "            train_loss.append(loss.item())\n",
    "\n",
    "            print('[Epoch %d | %d/%d] loss: %.4f' %\n",
    "                 ((epoch+1), idx*batch, len(train)*batch, loss.item()), end='\\r')\n",
    "            idx += 1\n",
    "        total_loss = sum(train_loss)/len(train)\n",
    "        print(\"\\n  Training loss:%.4f \" % total_loss)\n",
    "\n",
    "        # Validation\n",
    "        model.eval()\n",
    "        valid_loss = []\n",
    "        with torch.no_grad():\n",
    "            for image, _ in val:\n",
    "                image = image.to(device, dtype=torch.float)\n",
    "                _, reconstruct = model(image)\n",
    "\n",
    "                loss = criterion(reconstruct, image)\n",
    "                valid_loss.append(loss.item())\n",
    "            total_loss = sum(valid_loss)/len(val)\n",
    "            print(\" Validation loss:%.4f \" % total_loss)\n",
    "        # save model\n",
    "        if total_loss < best_loss:\n",
    "                best_loss = total_loss\n",
    "                print(\"saving model with loss %.4f...\\n\" % total_loss)\n",
    "                torch.save(model.state_dict(), \"%s\" % model_save)"
   ]
  },
  {
   "cell_type": "code",
   "execution_count": 82,
   "metadata": {},
   "outputs": [
    {
     "name": "stdout",
     "output_type": "stream",
     "text": [
      "[Epoch 1 | 53984/54016] loss: 0.5140\n",
      "  Training loss:0.5162 \n",
      " Validation loss:0.4772 \n",
      "saving model with loss 0.4772...\n",
      "\n",
      "[Epoch 2 | 53984/54016] loss: 0.4730\n",
      "  Training loss:0.4754 \n",
      " Validation loss:0.4722 \n",
      "saving model with loss 0.4722...\n",
      "\n",
      "[Epoch 3 | 53984/54016] loss: 0.5021\n",
      "  Training loss:0.4723 \n",
      " Validation loss:0.4705 \n",
      "saving model with loss 0.4705...\n",
      "\n",
      "[Epoch 4 | 53984/54016] loss: 0.4264\n",
      "  Training loss:0.4710 \n",
      " Validation loss:0.4695 \n",
      "saving model with loss 0.4695...\n",
      "\n",
      "[Epoch 5 | 53984/54016] loss: 0.4939\n",
      "  Training loss:0.4702 \n",
      " Validation loss:0.4688 \n",
      "saving model with loss 0.4688...\n",
      "\n",
      "[Epoch 6 | 53984/54016] loss: 0.4402\n",
      "  Training loss:0.4697 \n",
      " Validation loss:0.4682 \n",
      "saving model with loss 0.4682...\n",
      "\n",
      "[Epoch 7 | 53984/54016] loss: 0.4582\n",
      "  Training loss:0.4693 \n",
      " Validation loss:0.4679 \n",
      "saving model with loss 0.4679...\n",
      "\n",
      "[Epoch 8 | 53984/54016] loss: 0.4562\n",
      "  Training loss:0.4689 \n",
      " Validation loss:0.4675 \n",
      "saving model with loss 0.4675...\n",
      "\n",
      "[Epoch 9 | 53984/54016] loss: 0.4865\n",
      "  Training loss:0.4687 \n",
      " Validation loss:0.4675 \n",
      "saving model with loss 0.4675...\n",
      "\n",
      "[Epoch 10 | 53984/54016] loss: 0.4346\n",
      "  Training loss:0.4684 \n",
      " Validation loss:0.4673 \n",
      "saving model with loss 0.4673...\n",
      "\n",
      "[Epoch 11 | 53984/54016] loss: 0.4945\n",
      "  Training loss:0.4682 \n",
      " Validation loss:0.4670 \n",
      "saving model with loss 0.4670...\n",
      "\n",
      "[Epoch 12 | 53984/54016] loss: 0.4873\n",
      "  Training loss:0.4681 \n",
      " Validation loss:0.4668 \n",
      "saving model with loss 0.4668...\n",
      "\n",
      "[Epoch 13 | 53984/54016] loss: 0.4591\n",
      "  Training loss:0.4679 \n",
      " Validation loss:0.4667 \n",
      "saving model with loss 0.4667...\n",
      "\n",
      "[Epoch 14 | 53984/54016] loss: 0.4722\n",
      "  Training loss:0.4677 \n",
      " Validation loss:0.4667 \n",
      "saving model with loss 0.4667...\n",
      "\n",
      "[Epoch 15 | 53984/54016] loss: 0.4414\n",
      "  Training loss:0.4676 \n",
      " Validation loss:0.4665 \n",
      "saving model with loss 0.4665...\n",
      "\n"
     ]
    }
   ],
   "source": [
    "Train(train_loader, valid_loader, model, device, n_epoch, batch_size, model_save)"
   ]
  },
  {
   "attachments": {},
   "cell_type": "markdown",
   "metadata": {},
   "source": [
    "### Plot the Reconstructed Images"
   ]
  },
  {
   "cell_type": "code",
   "execution_count": 84,
   "metadata": {},
   "outputs": [
    {
     "data": {
      "image/png": "[encoded data removed]",
      "text/plain": [
       "<Figure size 600x600 with 16 Axes>"
      ]
     },
     "metadata": {},
     "output_type": "display_data"
    },
    {
     "data": {
      "image/png": "[encoded data removed]",
      "text/plain": [
       "<Figure size 600x600 with 16 Axes>"
      ]
     },
     "metadata": {},
     "output_type": "display_data"
    }
   ],
   "source": [
    "fixed_number_samples = 16\n",
    "\n",
    "size_figure_grid = int(math.sqrt(fixed_number_samples))\n",
    "fig, ax = plt.subplots(size_figure_grid, size_figure_grid, figsize=(6, 6))\n",
    "for i, j in itertools.product(range(size_figure_grid), range(size_figure_grid)):\n",
    "    ax[i,j].get_xaxis().set_visible(False)\n",
    "    ax[i,j].get_yaxis().set_visible(False)\n",
    "    \n",
    "model.load_state_dict(torch.load(model_save))\n",
    "model.eval()\n",
    "\n",
    "for batch_idx, samples in enumerate(train_loader):\n",
    "    if batch_idx==0:\n",
    "        img, _ = samples\n",
    "    _, reconstruct = model(img)\n",
    "    for k in range(fixed_number_samples):\n",
    "        i = k//4\n",
    "        j = k%4\n",
    "        ax[i,j].cla()\n",
    "        ax[i,j].imshow(reconstruct[k,:].data.cpu().numpy().reshape(28, 28), cmap='Greys')\n",
    "    display.clear_output(wait=True)\n",
    "    display.display(plt.gcf())\n",
    "    "
   ]
  },
  {
   "attachments": {},
   "cell_type": "markdown",
   "metadata": {},
   "source": [
    "### Clustering Process"
   ]
  },
  {
   "cell_type": "code",
   "execution_count": 85,
   "metadata": {},
   "outputs": [],
   "source": [
    "def clustering(model, device, loader, n_iter, reduced_method, reduced_dim, perplexity):\n",
    "    assert reduced_method in ['pca', 'tsne', None]\n",
    "\n",
    "    model.eval()\n",
    "    latent_vector = torch.tensor([]).to(device, dtype=torch.float)\n",
    "    for image, _ in loader:\n",
    "        image = image.to(device, dtype=torch.float)\n",
    "        latent, _ = model(image)\n",
    "        latent_vector = torch.cat((latent_vector, latent), dim=0)\n",
    "\n",
    "    latent_vector = latent_vector.cpu().detach().numpy()\n",
    "\n",
    "    if reduced_method == 'tsne':\n",
    "        tsne = TSNE(n_components=reduced_dim, verbose=1, method='exact', perplexity=perplexity, n_iter=n_iter)\n",
    "        latent_vector = latent_vector.reshape(batch_size,-1)\n",
    "        latent_vector = tsne.fit_transform(latent_vector)\n",
    "    elif reduced_method == 'pca':\n",
    "        pca = PCA(n_components=reduced_dim, copy=False, whiten=True, svd_solver='full')\n",
    "        latent_vector = latent_vector.reshape(batch_size,-1)\n",
    "        latent_vector = pca.fit_transform(latent_vector)\n",
    "\n",
    "    kmeans = KMeans(n_clusters=2, random_state=0, max_iter=n_iter).fit(latent_vector)\n",
    "    return latent_vector,kmeans.labels_"
   ]
  },
  {
   "cell_type": "code",
   "execution_count": 86,
   "metadata": {},
   "outputs": [
    {
     "name": "stdout",
     "output_type": "stream",
     "text": [
      "[t-SNE] Computing pairwise distances...\n",
      "[t-SNE] Computed conditional probabilities for sample 32 / 32\n",
      "[t-SNE] Mean sigma: 420.963478\n",
      "[t-SNE] KL divergence after 250 iterations with early exaggeration: 57.349010\n",
      "[t-SNE] KL divergence after 1000 iterations: 0.079663\n"
     ]
    },
    {
     "name": "stderr",
     "output_type": "stream",
     "text": [
      "/Users/lerong/miniconda3/envs/general_env/lib/python3.11/site-packages/sklearn/cluster/_kmeans.py:1412: FutureWarning: The default value of `n_init` will change from 10 to 'auto' in 1.4. Set the value of `n_init` explicitly to suppress the warning\n",
      "  super()._check_params_vs_input(X, default_n_init=10)\n",
      "/Users/lerong/miniconda3/envs/general_env/lib/python3.11/site-packages/sklearn/cluster/_kmeans.py:1412: FutureWarning: The default value of `n_init` will change from 10 to 'auto' in 1.4. Set the value of `n_init` explicitly to suppress the warning\n",
      "  super()._check_params_vs_input(X, default_n_init=10)\n"
     ]
    }
   ],
   "source": [
    "model.load_state_dict(torch.load(model_save))\n",
    "predicted_tsne = clustering(model, device, test_loader, n_iter, reduced_method='tsne', reduced_dim=reduce_dim, perplexity=10)\n",
    "predicted_pca = clustering(model, device, test_loader, n_iter, reduced_method='pca', reduced_dim=reduce_dim, perplexity=10)"
   ]
  },
  {
   "attachments": {},
   "cell_type": "markdown",
   "metadata": {},
   "source": [
    "### Plot the Results\n",
    "The blue points are the embedded points from t-SNE, where the top left points are labeled 1, and the bottom right points are labeled 0. On the other hand, the orange points are the embedded points from PCA. The distribution of embedded points illustrate the comparison of these two embedding scheme. T-SNE, at least in this scenario, is better than PCA."
   ]
  },
  {
   "cell_type": "code",
   "execution_count": 87,
   "metadata": {},
   "outputs": [
    {
     "data": {
      "text/plain": [
       "<matplotlib.collections.PathCollection at 0x128eab910>"
      ]
     },
     "execution_count": 87,
     "metadata": {},
     "output_type": "execute_result"
    },
    {
     "data": {
      "image/png": "[encoded data removed]",
      "text/plain": [
       "<Figure size 640x480 with 1 Axes>"
      ]
     },
     "metadata": {},
     "output_type": "display_data"
    }
   ],
   "source": [
    "# Blue: t-SNE, Orange: PCA\n",
    "plt.scatter(x=predicted_tsne[0][:,0],y=predicted_tsne[0][:,1],s=1)\n",
    "plt.scatter(x=predicted_pca[0][:,0],y=predicted_pca[0][:,1],s=1)"
   ]
  },
  {
   "cell_type": "code",
   "execution_count": 90,
   "metadata": {},
   "outputs": [
    {
     "data": {
      "text/plain": [
       "<matplotlib.collections.PathCollection at 0x1283c8950>"
      ]
     },
     "execution_count": 90,
     "metadata": {},
     "output_type": "execute_result"
    },
    {
     "data": {
      "image/png": "[encoded data removed]",
      "text/plain": [
       "<Figure size 640x480 with 1 Axes>"
      ]
     },
     "metadata": {},
     "output_type": "display_data"
    }
   ],
   "source": [
    "plt.scatter(x=predicted_tsne[0][0,0],y=predicted_tsne[0][0,1],s=1)"
   ]
  },
  {
   "cell_type": "code",
   "execution_count": 88,
   "metadata": {},
   "outputs": [
    {
     "data": {
      "text/plain": [
       "array([1, 0, 1, 0, 1, 0, 1, 0, 1, 0, 1, 0, 1, 0, 1, 0, 1, 0, 1, 0, 1, 0,\n",
       "       1, 0, 1, 0, 1, 0, 1, 0, 1, 0], dtype=int32)"
      ]
     },
     "execution_count": 88,
     "metadata": {},
     "output_type": "execute_result"
    }
   ],
   "source": [
    "predicted_tsne[1]"
   ]
  },
  {
   "cell_type": "code",
   "execution_count": 89,
   "metadata": {},
   "outputs": [
    {
     "data": {
      "text/plain": [
       "array([1, 0, 1, 0, 1, 0, 1, 0, 1, 0, 1, 0, 1, 0, 1, 0, 1, 0, 1, 0, 1, 0,\n",
       "       1, 0, 1, 0, 1, 0, 1, 0, 1, 0], dtype=int32)"
      ]
     },
     "execution_count": 89,
     "metadata": {},
     "output_type": "execute_result"
    }
   ],
   "source": [
    "predicted_pca[1]"
   ]
  }
 ],
 "metadata": {
  "kernelspec": {
   "display_name": "general_env",
   "language": "python",
   "name": "python3"
  },
  "language_info": {
   "codemirror_mode": {
    "name": "ipython",
    "version": 3
   },
   "file_extension": ".py",
   "mimetype": "text/x-python",
   "name": "python",
   "nbconvert_exporter": "python",
   "pygments_lexer": "ipython3",
   "version": "3.11.4"
  },
  "orig_nbformat": 4
 },
 "nbformat": 4,
 "nbformat_minor": 2
}

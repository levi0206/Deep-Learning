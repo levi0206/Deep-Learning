{
 "cells": [
  {
   "attachments": {},
   "cell_type": "markdown",
   "metadata": {},
   "source": [
    "## VAE Implementation with MNIST"
   ]
  },
  {
   "cell_type": "code",
   "execution_count": 1,
   "metadata": {},
   "outputs": [],
   "source": [
    "import random\n",
    "import numpy as np\n",
    "import math\n",
    "import itertools\n",
    "from IPython import display\n",
    "import matplotlib.pyplot as plt\n",
    "\n",
    "import torch\n",
    "import torch.nn as nn\n",
    "import torch.optim as optim\n",
    "import torchvision.transforms as transforms\n",
    "from torch.utils import data\n",
    "from torchvision import datasets\n",
    "import torch.nn.functional as F"
   ]
  },
  {
   "cell_type": "code",
   "execution_count": 2,
   "metadata": {},
   "outputs": [],
   "source": [
    "def same_seed(seed):\n",
    "    torch.backends.cudnn.deterministic = True\n",
    "    torch.backends.cudnn.benchmark = False\n",
    "    torch.manual_seed(seed)\n",
    "    torch.cuda.manual_seed_all(seed)\n",
    "    random.seed(seed)\n",
    "    np.random.seed(seed)\n",
    "\n",
    "device = 'mps'\n",
    "same_seed(2023)"
   ]
  },
  {
   "cell_type": "code",
   "execution_count": 3,
   "metadata": {},
   "outputs": [],
   "source": [
    "n_epoch = 20\n",
    "batch_size = 32\n",
    "latent_dim = 32\n",
    "lr = 0.0005\n",
    "model_save = 'model.pth'"
   ]
  },
  {
   "cell_type": "code",
   "execution_count": 4,
   "metadata": {},
   "outputs": [],
   "source": [
    "transform = transforms.Compose([\n",
    "    transforms.ToTensor(),\n",
    "    transforms.Normalize((0.1307,), (0.3081,)),\n",
    "])"
   ]
  },
  {
   "cell_type": "code",
   "execution_count": 5,
   "metadata": {},
   "outputs": [],
   "source": [
    "train_set = datasets.MNIST(root='./', train=True,download=True, transform=transform)\n",
    "                                \n",
    "test_set = datasets.MNIST(root='./', train=False,download=True, transform=transform)\n",
    "                                       \n",
    "train_size = int(0.9 * len(train_set))\n",
    "val_size = len(train_set) - train_size\n",
    "\n",
    "train_set, val_set = torch.utils.data.random_split(dataset=train_set, lengths=[train_size, val_size])\n",
    "\n",
    "train_loader = data.DataLoader(train_set, batch_size=batch_size,shuffle=True)\n",
    "valid_loader = data.DataLoader(dataset=val_set,batch_size=batch_size,shuffle=True)                               \n",
    "test_loader = data.DataLoader(test_set, batch_size=batch_size,shuffle=False)  "
   ]
  },
  {
   "cell_type": "code",
   "execution_count": 6,
   "metadata": {},
   "outputs": [],
   "source": [
    "class VAE(nn.Module):\n",
    "    def __init__(self, latent_dim=100):\n",
    "        super(VAE, self).__init__()\n",
    "        \n",
    "        self.encoder = nn.Sequential(\n",
    "            nn.Conv2d(1,32,kernel_size=5, stride=1, padding=2), #[16,28,28]\n",
    "            nn.ReLU(),\n",
    "            nn.Conv2d(32, 64, kernel_size=2, stride=2), #[14,14]\n",
    "            nn.ReLU(),\n",
    "            nn.Conv2d(64, 128, kernel_size=2, stride=2), #[7,7]\n",
    "            nn.ReLU(),\n",
    "            nn.Flatten(start_dim=1,end_dim=-1),\n",
    "        )\n",
    "\n",
    "        self.fc1 = nn.Linear(128*7*7, latent_dim)\n",
    "        self.fc2 = nn.Linear(128*7*7, latent_dim)\n",
    "\n",
    "        self.decoder = nn.Sequential(\n",
    "            nn.Linear(latent_dim,128*7*7),\n",
    "            nn.ReLU(),\n",
    "            nn.Unflatten(dim=1,unflattened_size=(128,7,7)),\n",
    "            nn.ConvTranspose2d(128,64, kernel_size=5, stride=1, padding=2),\n",
    "            nn.ReLU(),\n",
    "            nn.ConvTranspose2d(64,32, kernel_size=2, stride=2, padding=0),\n",
    "            nn.ReLU(),\n",
    "            nn.ConvTranspose2d(32,1, kernel_size=2, stride=2, padding=0),\n",
    "            nn.Tanh(),\n",
    "        )\n",
    "    \n",
    "    def reparameterize(self, mu, logVar):\n",
    "        std = torch.exp(logVar /2)\n",
    "        eps = torch.rand_like(std)\n",
    "        \n",
    "        return mu + eps* std\n",
    "    \n",
    "    def forward(self, x):\n",
    "        encoded = self.encoder(x)\n",
    "        mu, logVar = self.fc1(encoded), self.fc2(encoded)\n",
    "        z = self.reparameterize(mu, logVar)\n",
    "        out = self.decoder(z)\n",
    "        return out, mu, logVar, z\n",
    "        "
   ]
  },
  {
   "cell_type": "code",
   "execution_count": 7,
   "metadata": {},
   "outputs": [
    {
     "name": "stdout",
     "output_type": "stream",
     "text": [
      "After Flatten: torch.Size([128, 784])\n",
      "After Unflatten: torch.Size([128, 1, 28, 28])\n"
     ]
    }
   ],
   "source": [
    "x = torch.randn((128,1,28,28))\n",
    "x = nn.Flatten(start_dim=1)(x)\n",
    "print(\"After Flatten:\", x.shape)\n",
    "x = nn.Unflatten(dim=1,unflattened_size=(1,28,28))(x)\n",
    "print(\"After Unflatten:\", x.shape)"
   ]
  },
  {
   "cell_type": "code",
   "execution_count": 8,
   "metadata": {},
   "outputs": [],
   "source": [
    "model = VAE(latent_dim=4).to(device)"
   ]
  },
  {
   "cell_type": "code",
   "execution_count": 9,
   "metadata": {},
   "outputs": [],
   "source": [
    "optimizer = torch.optim.RMSprop(model.parameters(), lr=3e-4) "
   ]
  },
  {
   "cell_type": "code",
   "execution_count": 10,
   "metadata": {},
   "outputs": [],
   "source": [
    "def Train(n_epoch, batch, model_save):\n",
    "    for epoch in range(n_epoch):\n",
    "        total_loss = 0\n",
    "\n",
    "        # Training\n",
    "        model.train()\n",
    "        train_loss = []\n",
    "        idx = 0\n",
    "        for image, _ in train_loader:\n",
    "            image = image.to(device, dtype=torch.float)\n",
    "            image = image.view(-1,1,28,28)\n",
    "            reconstruct, mu, logVar, _ = model(image)\n",
    "\n",
    "            # Loss \n",
    "            KL = 0.5 * torch.mean(-1 - logVar + mu.pow(2) + logVar.exp())\n",
    "            BCE = F.mse_loss(reconstruct, image, size_average=False,reduction='sum')\n",
    "            loss = KL+BCE\n",
    "\n",
    "            optimizer.zero_grad()\n",
    "            loss.backward()\n",
    "            optimizer.step()\n",
    "            train_loss.append(loss.item())\n",
    "\n",
    "            print('[Epoch %d | %d/%d] loss: %.4f' %\n",
    "                 ((epoch+1), idx*batch, len(train_loader)*batch, loss.item()), end='\\r')\n",
    "            idx += 1\n",
    "        total_loss = sum(train_loss)/len(train_loader)\n",
    "        print(\"\\n  Training loss:%.4f \" % total_loss)\n",
    "\n",
    "        # Validation\n",
    "        model.eval()\n",
    "        valid_loss = []\n",
    "        with torch.no_grad():\n",
    "            for image, _ in valid_loader:\n",
    "                image = image.to(device, dtype=torch.float)\n",
    "                image = image.view(-1,1,28,28)\n",
    "                reconstruct, mu, logVar, _ = model(image)\n",
    "                \n",
    "                # Loss \n",
    "                KL = 0.5 * torch.mean(-1 - logVar + mu.pow(2) + logVar.exp())\n",
    "                BCE = F.mse_loss(reconstruct, image, size_average=False,reduction='sum')\n",
    "                loss = KL+BCE\n",
    "\n",
    "                valid_loss.append(loss.item())\n",
    "            total_loss = sum(valid_loss)/len(valid_loader)\n",
    "            print(\" Validation loss:%.4f \" % total_loss)"
   ]
  },
  {
   "cell_type": "code",
   "execution_count": 11,
   "metadata": {},
   "outputs": [
    {
     "name": "stderr",
     "output_type": "stream",
     "text": [
      "/Users/lerong/miniconda3/envs/general_env/lib/python3.11/site-packages/torch/nn/_reduction.py:42: UserWarning: size_average and reduce args will be deprecated, please use reduction='sum' instead.\n",
      "  warnings.warn(warning.format(ret))\n"
     ]
    },
    {
     "name": "stdout",
     "output_type": "stream",
     "text": [
      "[Epoch 1 | 53984/54016] loss: 6074.97366\n",
      "  Training loss:13493.0484 \n",
      " Validation loss:12591.5311 \n",
      "[Epoch 2 | 53984/54016] loss: 5399.94433\n",
      "  Training loss:12449.7389 \n",
      " Validation loss:12168.4971 \n",
      "[Epoch 3 | 53984/54016] loss: 6258.78370\n",
      "  Training loss:12091.5389 \n",
      " Validation loss:11896.2062 \n",
      "[Epoch 4 | 53984/54016] loss: 5421.30279\n",
      "  Training loss:11875.9564 \n",
      " Validation loss:11746.2251 \n",
      "[Epoch 5 | 53984/54016] loss: 5999.33152\n",
      "  Training loss:11747.1750 \n",
      " Validation loss:11677.6175 \n",
      "[Epoch 6 | 53984/54016] loss: 6453.66652\n",
      "  Training loss:11656.7684 \n",
      " Validation loss:11588.0510 \n",
      "[Epoch 7 | 53984/54016] loss: 5746.67099\n",
      "  Training loss:11592.0870 \n",
      " Validation loss:11530.6902 \n",
      "[Epoch 8 | 53984/54016] loss: 5523.20318\n",
      "  Training loss:11538.7250 \n",
      " Validation loss:11482.0278 \n",
      "[Epoch 9 | 53984/54016] loss: 6036.03422\n",
      "  Training loss:11494.8239 \n",
      " Validation loss:11438.3741 \n",
      "[Epoch 10 | 53984/54016] loss: 5044.98930\n",
      "  Training loss:11458.2071 \n",
      " Validation loss:11416.8404 \n",
      "[Epoch 11 | 53984/54016] loss: 5538.27441\n",
      "  Training loss:11423.6190 \n",
      " Validation loss:11392.4396 \n",
      "[Epoch 12 | 53984/54016] loss: 5957.82479\n",
      "  Training loss:11395.6399 \n",
      " Validation loss:11386.3509 \n",
      "[Epoch 13 | 53984/54016] loss: 6369.86670\n",
      "  Training loss:11370.7509 \n",
      " Validation loss:11386.6976 \n",
      "[Epoch 14 | 53984/54016] loss: 5700.06206\n",
      "  Training loss:11346.6143 \n",
      " Validation loss:11341.4769 \n",
      "[Epoch 15 | 53984/54016] loss: 6153.25543\n",
      "  Training loss:11323.9371 \n",
      " Validation loss:11327.0123 \n",
      "[Epoch 16 | 53984/54016] loss: 5304.60606\n",
      "  Training loss:11305.1355 \n",
      " Validation loss:11312.8828 \n",
      "[Epoch 17 | 53984/54016] loss: 4091.47512\n",
      "  Training loss:11285.4508 \n",
      " Validation loss:11310.6605 \n",
      "[Epoch 18 | 53984/54016] loss: 4939.81017\n",
      "  Training loss:11268.6204 \n",
      " Validation loss:11289.9130 \n",
      "[Epoch 19 | 53984/54016] loss: 5960.88134\n",
      "  Training loss:11252.6523 \n",
      " Validation loss:11305.5778 \n",
      "[Epoch 20 | 53984/54016] loss: 5111.05621\n",
      "  Training loss:11235.8794 \n",
      " Validation loss:11298.5971 \n"
     ]
    }
   ],
   "source": [
    "Train(n_epoch, batch_size, model_save)"
   ]
  },
  {
   "cell_type": "code",
   "execution_count": 12,
   "metadata": {},
   "outputs": [
    {
     "data": {
      "image/png": "[encoded data removed]",
      "text/plain": [
       "<Figure size 600x600 with 16 Axes>"
      ]
     },
     "metadata": {},
     "output_type": "display_data"
    },
    {
     "data": {
      "image/png": "[encoded data removed]",
      "text/plain": [
       "<Figure size 600x600 with 16 Axes>"
      ]
     },
     "metadata": {},
     "output_type": "display_data"
    }
   ],
   "source": [
    "fixed_number_samples = 16\n",
    "\n",
    "size_figure_grid = int(math.sqrt(fixed_number_samples))\n",
    "fig, ax = plt.subplots(size_figure_grid, size_figure_grid, figsize=(6, 6))\n",
    "for i, j in itertools.product(range(size_figure_grid), range(size_figure_grid)):\n",
    "    ax[i,j].get_xaxis().set_visible(False)\n",
    "    ax[i,j].get_yaxis().set_visible(False)\n",
    "\n",
    "\n",
    "model.to('cpu')\n",
    "model.eval()\n",
    "\n",
    "for batch_idx, samples in enumerate(train_loader):\n",
    "    if batch_idx==0:\n",
    "        img, _ = samples\n",
    "        reconstruct,_,_,_ = model(img)\n",
    "        for k in range(fixed_number_samples):\n",
    "            i = k//4\n",
    "            j = k%4\n",
    "            ax[i,j].cla()\n",
    "            ax[i,j].imshow(reconstruct[k,:].data.cpu().numpy().reshape(28, 28), cmap='Greys')\n",
    "        display.clear_output(wait=True)\n",
    "        display.display(plt.gcf())\n",
    "    else:\n",
    "        pass"
   ]
  },
  {
   "attachments": {},
   "cell_type": "markdown",
   "metadata": {},
   "source": [
    "## References\n",
    "- https://github.com/sksq96/pytorch-vae/blob/master/vae-cnn.ipynb\n",
    "- https://arxiv.org/pdf/1907.08956v1.pdf\n",
    "- https://stats.stackexchange.com/questions/562374/implementing-a-vae-in-pytorch-extremely-negative-training-loss"
   ]
  }
 ],
 "metadata": {
  "kernelspec": {
   "display_name": "general_env",
   "language": "python",
   "name": "python3"
  },
  "language_info": {
   "codemirror_mode": {
    "name": "ipython",
    "version": 3
   },
   "file_extension": ".py",
   "mimetype": "text/x-python",
   "name": "python",
   "nbconvert_exporter": "python",
   "pygments_lexer": "ipython3",
   "version": "3.11.4"
  },
  "orig_nbformat": 4
 },
 "nbformat": 4,
 "nbformat_minor": 2
}

{
 "cells": [
  {
   "attachments": {},
   "cell_type": "markdown",
   "metadata": {},
   "source": [
    "# Transformer"
   ]
  },
  {
   "attachments": {},
   "cell_type": "markdown",
   "metadata": {},
   "source": [
    "## Why Transformer?\n",
    "Before the attention mechanism was invented, which will be introduced later, one of the most popular model of machine translation is the **Seq2Seq** model (2014), which consists of 2 recurrent neural networks, an encoder and a decoder. The encoder-decoder structure indeed outperforms a single RNN/LSTM network, but the disadvantage of the Seq2Seq model is still obvious: the fixed length of the input and output vectors. As the sentence increases longer, people observe that the network forgets the previous context and the model consumes lots of momery and computation. "
   ]
  },
  {
   "attachments": {},
   "cell_type": "markdown",
   "metadata": {},
   "source": [
    "## Transformer Implementation: undetermined"
   ]
  },
  {
   "attachments": {},
   "cell_type": "markdown",
   "metadata": {},
   "source": [
    "## References\n",
    "- [1] Attention Is All You Need, https://arxiv.org/abs/1706.03762\n",
    "- [2] https://peterbloem.nl/blog/transformers\n",
    "- [3] Attention? Attention!, https://lilianweng.github.io/posts/2018-06-24-attention/\n",
    "- [4] The Illustrated Transformer, http://jalammar.github.io/illustrated-transformer/?ref=blog.paperspace.com\n",
    "- [5] The Transformer Family, https://lilianweng.github.io/posts/2020-04-07-the-transformer-family/\n",
    "- [6] http://nlp.seas.harvard.edu/2018/04/03/attention.html\n",
    "- [7] Sequence to Sequence Learning with Neural Networks, https://arxiv.org/abs/1409.3215\n",
    "- [8] Neural Machine Translation by Jointly Learning to Align and Translate, https://arxiv.org/abs/1409.0473"
   ]
  }
 ],
 "metadata": {
  "kernelspec": {
   "display_name": "general_env",
   "language": "python",
   "name": "python3"
  },
  "language_info": {
   "codemirror_mode": {
    "name": "ipython",
    "version": 3
   },
   "file_extension": ".py",
   "mimetype": "text/x-python",
   "name": "python",
   "nbconvert_exporter": "python",
   "pygments_lexer": "ipython3",
   "version": "3.11.4"
  },
  "orig_nbformat": 4
 },
 "nbformat": 4,
 "nbformat_minor": 2
}
